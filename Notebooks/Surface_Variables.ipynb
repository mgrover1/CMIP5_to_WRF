{
 "cells": [
  {
   "cell_type": "code",
   "execution_count": 1,
   "metadata": {},
   "outputs": [],
   "source": [
    "from dask_jobqueue import SLURMCluster\n",
    "from dask.distributed import Client\n",
    "\n",
    "import xarray as xr\n",
    "import metpy\n",
    "from metpy.units import units\n",
    "import iris\n",
    "import cartopy.crs as ccrs\n",
    "import cartopy.feature as cfeature\n",
    "import matplotlib.pyplot as plt\n",
    "import numpy as np\n",
    "import cfgrib\n",
    "import xesmf as xe\n",
    "import pyproj\n",
    "import ESMF\n",
    "import warnings\n",
    "from datetime import datetime\n",
    "warnings.filterwarnings(\"ignore\")"
   ]
  },
  {
   "cell_type": "code",
   "execution_count": 2,
   "metadata": {},
   "outputs": [],
   "source": [
    "cluster = SLURMCluster()\n",
    "cluster.scale(1)\n",
    "client = Client(cluster)"
   ]
  },
  {
   "cell_type": "code",
   "execution_count": 3,
   "metadata": {},
   "outputs": [],
   "source": [
    "# Grab NAM Coordinates from reanalysis dataset on Keeling\n",
    "nam_including_coords_ds = xr.open_dataset('/data/meso/a/jtrapp/formax/namanl_218_20100510_1200_000.grb', engine='cfgrib',\n",
    "                                           backend_kwargs={\n",
    "                                                            'filter_by_keys': {'cfName': 'eastward_wind', 'typeOfLevel': 'isobaricInhPa'},\n",
    "                                                            'errors': 'ignore'\n",
    "                                                            }\n",
    "                                         )\n",
    "ds_out = nam_including_coords_ds.rename({'isobaricInhPa': 'plev', 'longitude': 'lon', 'latitude': 'lat'})"
   ]
  },
  {
   "cell_type": "code",
   "execution_count": 4,
   "metadata": {},
   "outputs": [],
   "source": [
    "base_url = 'https://www.ncei.noaa.gov/thredds/dodsC/namanl/'\n",
    "dt = datetime(2009, 5, 7, 18)\n",
    "nam_data = xr.open_dataset('{}{dt:%Y%m}/{dt:%Y%m%d}/namanl_218_{dt:%Y%m%d}_'\n",
    "                       '{dt:%H}00_000.grb'.format(base_url, dt=dt),\n",
    "                       decode_times=True)\n",
    "\n",
    "nam_temp = nam_data.metpy.parse_cf('Temperature_isobaric')[0]\n",
    "nam_crs = nam_temp.metpy.cartopy_crs\n",
    "mask = nam_data['Land_cover_land1_sea0_surface'][0].values"
   ]
  },
  {
   "cell_type": "code",
   "execution_count": 5,
   "metadata": {},
   "outputs": [],
   "source": [
    "def monthly_average(ds_in, variable, start_year=1990, end_year=1999, month_num=5):\n",
    "    \"\"\"\n",
    "    Takes the input xarray dataset, converts the times from cftimes to\n",
    "    datetime objects. It then subsets the time based on the given years, \n",
    "    and calculates the monthly averages\n",
    "    \"\"\"\n",
    "    \n",
    "    # Converts the cftimes to datetime\n",
    "    ds_in['time'] = ds_in.indexes['time'].to_datetimeindex()\n",
    "    \n",
    "    # Subsets times based on given years\n",
    "    ds_in = ds_in.sel(time = slice(datetime(start_year, 1, 16, 12),\n",
    "                                   datetime(end_year, 12, 16, 12 )))\n",
    "    \n",
    "    # Find the monthly average\n",
    "    monthly_avg = ds_in[variable].groupby('time.month').mean('time')\n",
    "    \n",
    "    mon_avg = monthly_avg.sel(month=month_num)\n",
    "    \n",
    "    mon_avg_ds = mon_avg.to_dataset()\n",
    "    \n",
    "    # Setup the regridder - keek reuse_weights = True to use the regridder in the directory\n",
    "    regridder = xe.Regridder(mon_avg_ds, ds_out, 'bilinear', reuse_weights=True)\n",
    "\n",
    "    return regridder(mon_avg_ds)"
   ]
  },
  {
   "cell_type": "code",
   "execution_count": 6,
   "metadata": {},
   "outputs": [],
   "source": [
    "def climo_delta_soil_miroc(variable):\n",
    "    # Path to the directory containing the MIROC dataset\n",
    "    first_path = '/data/jtrapp/a/jtrapp/CMIP5/MIROC/'\n",
    "    \n",
    "    # Path to the historical data\n",
    "    end_path_historical = '_Lmon_MIROC5_historical_r1i1p1_185001-201212.nc'\n",
    " \n",
    "    # Path to the future projections (RCP 8.5)\n",
    "    end_path_future = '_Lmon_MIROC5_rcp85_r1i1p1_200601-210012.nc'\n",
    "\n",
    "    # Historical U-component of the wind\n",
    "    past_ds = xr.open_dataset(first_path + variable + end_path_historical).metpy.parse_cf()\n",
    "\n",
    "    # Future U-component of the wind\n",
    "    future_ds = xr.open_dataset(first_path + variable + end_path_future).metpy.parse_cf()\n",
    "    \n",
    "    return (monthly_average(future_ds, variable, 2090, 2099).interp({'depth':[0, 0.1, 0.4, 1, 3]}) - \n",
    "            monthly_average(past_ds, variable).interp({'depth':[0, 0.1, 0.4, 1, 3]}))\n",
    "\n",
    "def climo_delta_soil_gfdl(variable):\n",
    "    # Path to the directory containing the MIROC dataset\n",
    "    directory_path = '/data/jtrapp/a/jtrapp/CMIP5/GFDL/'\n",
    "    \n",
    "    # End path for the historical 3d variables\n",
    "    end_path_historical1 = '_Lmon_GFDL-CM3_historical_r1i1p1_199001-199412.nc'\n",
    "    end_path_historical2 = '_Lmon_GFDL-CM3_historical_r1i1p1_199501-199912.nc'\n",
    "\n",
    "    # End path for the future 3d variables\n",
    "    end_path_future1 = '_Lmon_GFDL-CM3_rcp85_r1i1p1_209101-209512.nc'\n",
    "    end_path_future2 = '_Lmon_GFDL-CM3_rcp85_r1i1p1_209601-210012.nc'\n",
    "    \n",
    "    # Historical U-component of the wind\n",
    "    past_ds = xr.concat([xr.open_dataset(directory_path + variable + end_path_historical1).metpy.parse_cf(),\n",
    "                         xr.open_dataset(directory_path + variable + end_path_historical2).metpy.parse_cf()], dim='time')\n",
    "    \n",
    "    # Future U-component of the wind\n",
    "    future_ds = xr.concat([xr.open_dataset(directory_path + variable + end_path_future1).metpy.parse_cf(),\n",
    "                           xr.open_dataset(directory_path + variable + end_path_future2).metpy.parse_cf()], dim='time')\n",
    "    \n",
    "    return (monthly_average(future_ds, variable, 2090, 2099).interp({'depth':[0, 0.1, 0.4, 1, 3]}) - \n",
    "            monthly_average(past_ds, variable).interp({'depth':[0, 0.1, 0.4, 1, 3]}))\n",
    "\n",
    "def climo_delta_soil_ncar(variable):\n",
    "    # Path to the directory containing the MIROC dataset\n",
    "    first_path = '/data/jtrapp/a/jtrapp/CMIP5/NCAR/'\n",
    "    \n",
    "    # Path to the historical data\n",
    "    end_path_historical = '_Lmon_CCSM4_historical_r1i1p1_195001-200512.nc'\n",
    " \n",
    "    # Path to the future projections (RCP 8.5)\n",
    "    end_path_future = '_Lmon_CCSM4_rcp85_r1i1p1_205001-210012.nc'\n",
    "\n",
    "    # Historical U-component of the wind\n",
    "    past_ds = xr.open_dataset(first_path + variable + end_path_historical).metpy.parse_cf()\n",
    "\n",
    "    # Future U-component of the wind\n",
    "    future_ds = xr.open_dataset(first_path + variable + end_path_future).metpy.parse_cf()\n",
    "\n",
    "    future_ds = future_ds.fillna(0)\n",
    "    return (monthly_average(future_ds, variable, 2090, 2099).interp({'depth':[0, 0.1, 0.4, 1, 3]}) - \n",
    "            monthly_average(past_ds, variable).interp({'depth':[0, 0.1, 0.4, 1, 3]}))"
   ]
  },
  {
   "cell_type": "code",
   "execution_count": 7,
   "metadata": {},
   "outputs": [],
   "source": [
    "def climo_delta_soil_percent_change_miroc(variable):\n",
    "    # Path to the directory containing the MIROC dataset\n",
    "    first_path = '/data/jtrapp/a/jtrapp/CMIP5/MIROC/'\n",
    "    \n",
    "    # Path to the historical data\n",
    "    end_path_historical = '_Lmon_MIROC5_historical_r1i1p1_185001-201212.nc'\n",
    " \n",
    "    # Path to the future projections (RCP 8.5)\n",
    "    end_path_future = '_Lmon_MIROC5_rcp85_r1i1p1_200601-210012.nc'\n",
    "\n",
    "    # Historical U-component of the wind\n",
    "    past_ds = xr.open_dataset(first_path + variable + end_path_historical).metpy.parse_cf()\n",
    "    past_avg = monthly_average(past_ds, variable).interp({'depth':0.5})\n",
    "\n",
    "    # Future U-component of the wind\n",
    "    future_ds = xr.open_dataset(first_path + variable + end_path_future).metpy.parse_cf()\n",
    "    future_avg = monthly_average(future_ds, variable, 2090, 2099).interp({'depth':0.5})\n",
    "\n",
    "    return ((future_avg - past_avg)/(past_avg))*100\n",
    "\n",
    "def climo_delta_soil_percent_change_gfdl(variable):\n",
    "    # Path to the directory containing the MIROC dataset\n",
    "    directory_path = '/data/jtrapp/a/jtrapp/CMIP5/GFDL/'\n",
    "    \n",
    "    # End path for the historical 3d variables\n",
    "    end_path_historical1 = '_Lmon_GFDL-CM3_historical_r1i1p1_199001-199412.nc'\n",
    "    end_path_historical2 = '_Lmon_GFDL-CM3_historical_r1i1p1_199501-199912.nc'\n",
    "\n",
    "    # End path for the future 3d variables\n",
    "    end_path_future1 = '_Lmon_GFDL-CM3_rcp85_r1i1p1_209101-209512.nc'\n",
    "    end_path_future2 = '_Lmon_GFDL-CM3_rcp85_r1i1p1_209601-210012.nc'\n",
    "    \n",
    "    # Historical U-component of the wind\n",
    "    past_ds = xr.concat([xr.open_dataset(directory_path + variable + end_path_historical1).metpy.parse_cf(),\n",
    "                               xr.open_dataset(directory_path + variable + end_path_historical2).metpy.parse_cf()], dim='time')\n",
    "    past_avg = monthly_average(past_ds, variable).interp({'depth':0.5})\n",
    "    \n",
    "    # Future U-component of the wind\n",
    "    future_ds = xr.concat([xr.open_dataset(directory_path + variable + end_path_future1).metpy.parse_cf(),\n",
    "                           xr.open_dataset(directory_path + variable + end_path_future2).metpy.parse_cf()], dim='time')\n",
    "    future_avg = monthly_average(future_ds, variable, 2090, 2099).interp({'depth':0.5})\n",
    "    \n",
    "    return ((future_avg - past_avg)/(past_avg))*100\n",
    "\n",
    "def climo_delta_soil_percent_change_ncar(variable):\n",
    "    # Path to the directory containing the MIROC dataset\n",
    "    first_path = '/data/jtrapp/a/jtrapp/CMIP5/NCAR/'\n",
    "    \n",
    "    # Path to the historical data\n",
    "    end_path_historical = '_Lmon_CCSM4_historical_r1i1p1_195001-200512.nc'\n",
    " \n",
    "    # Path to the future projections (RCP 8.5)\n",
    "    end_path_future = '_Lmon_CCSM4_rcp85_r1i1p1_205001-210012.nc'\n",
    "\n",
    "    # Historical U-component of the wind\n",
    "    past_ds = xr.open_dataset(first_path + variable + end_path_historical).metpy.parse_cf()\n",
    "    past_avg = monthly_average(past_ds, variable).interp({'depth':0.5})\n",
    "    \n",
    "    # Future U-component of the wind\n",
    "    future_ds = xr.open_dataset(first_path + variable + end_path_future).metpy.parse_cf()\n",
    "    future_avg = monthly_average(future_ds, variable, 2090, 2099).interp({'depth':0.5})\n",
    "    \n",
    "    return ((future_avg - past_avg)/(past_avg))*100"
   ]
  },
  {
   "cell_type": "markdown",
   "metadata": {},
   "source": [
    "#### Create MIROC dataset"
   ]
  },
  {
   "cell_type": "code",
   "execution_count": 8,
   "metadata": {},
   "outputs": [
    {
     "name": "stderr",
     "output_type": "stream",
     "text": [
      "Found lat/lon values, assuming latitude_longitude for projection grid_mapping variable\n",
      "Found lat/lon values, assuming latitude_longitude for projection grid_mapping variable\n"
     ]
    },
    {
     "name": "stdout",
     "output_type": "stream",
     "text": [
      "Reuse existing file: bilinear_128x256_428x614.nc\n",
      "using dimensions ('lat', 'lon') from data variable mrlsl as the horizontal dimensions for this dataset.\n"
     ]
    },
    {
     "name": "stderr",
     "output_type": "stream",
     "text": [
      "Found lat/lon values, assuming latitude_longitude for projection grid_mapping variable\n",
      "Found lat/lon values, assuming latitude_longitude for projection grid_mapping variable\n"
     ]
    },
    {
     "name": "stdout",
     "output_type": "stream",
     "text": [
      "Reuse existing file: bilinear_128x256_428x614.nc\n",
      "using dimensions ('lat', 'lon') from data variable mrlsl as the horizontal dimensions for this dataset.\n",
      "Reuse existing file: bilinear_128x256_428x614.nc\n",
      "using dimensions ('lat', 'lon') from data variable tsl as the horizontal dimensions for this dataset.\n",
      "Reuse existing file: bilinear_128x256_428x614.nc\n",
      "using dimensions ('lat', 'lon') from data variable tsl as the horizontal dimensions for this dataset.\n"
     ]
    }
   ],
   "source": [
    "merged_ds = xr.Dataset()\n",
    "\n",
    "merged_ds = xr.merge([climo_delta_soil_percent_change_miroc('mrlsl').fillna(0)*mask,\n",
    "                      merged_ds])\n",
    "\n",
    "merged_ds = xr.merge([climo_delta_soil_miroc('tsl').fillna(0)*mask,\n",
    "                      merged_ds])\n",
    "\n",
    "merged_ds = merged_ds.rename({'tsl':'Soil Temperature',\n",
    "                              'mrlsl':'Soil Moisture'})\n",
    "\n",
    "merged_ds['depth'] = merged_ds.depth * 100\n",
    "\n",
    "miroc_ds = merged_ds"
   ]
  },
  {
   "cell_type": "markdown",
   "metadata": {},
   "source": [
    "#### Create GFDL Dataset"
   ]
  },
  {
   "cell_type": "code",
   "execution_count": 9,
   "metadata": {},
   "outputs": [
    {
     "name": "stderr",
     "output_type": "stream",
     "text": [
      "Found lat/lon values, assuming latitude_longitude for projection grid_mapping variable\n",
      "Found lat/lon values, assuming latitude_longitude for projection grid_mapping variable\n",
      "Found lat/lon values, assuming latitude_longitude for projection grid_mapping variable\n",
      "Found lat/lon values, assuming latitude_longitude for projection grid_mapping variable\n"
     ]
    },
    {
     "name": "stdout",
     "output_type": "stream",
     "text": [
      "Reuse existing file: bilinear_90x144_428x614.nc\n",
      "using dimensions ('lat', 'lon') from data variable mrlsl as the horizontal dimensions for this dataset.\n"
     ]
    },
    {
     "name": "stderr",
     "output_type": "stream",
     "text": [
      "Found lat/lon values, assuming latitude_longitude for projection grid_mapping variable\n",
      "Found lat/lon values, assuming latitude_longitude for projection grid_mapping variable\n"
     ]
    },
    {
     "name": "stdout",
     "output_type": "stream",
     "text": [
      "Reuse existing file: bilinear_90x144_428x614.nc\n",
      "using dimensions ('lat', 'lon') from data variable mrlsl as the horizontal dimensions for this dataset.\n"
     ]
    },
    {
     "name": "stderr",
     "output_type": "stream",
     "text": [
      "Found lat/lon values, assuming latitude_longitude for projection grid_mapping variable\n",
      "Found lat/lon values, assuming latitude_longitude for projection grid_mapping variable\n"
     ]
    },
    {
     "name": "stdout",
     "output_type": "stream",
     "text": [
      "Reuse existing file: bilinear_90x144_428x614.nc\n",
      "using dimensions ('lat', 'lon') from data variable tsl as the horizontal dimensions for this dataset.\n",
      "Reuse existing file: bilinear_90x144_428x614.nc\n",
      "using dimensions ('lat', 'lon') from data variable tsl as the horizontal dimensions for this dataset.\n"
     ]
    }
   ],
   "source": [
    "merged_ds = xr.Dataset()\n",
    "\n",
    "merged_ds = xr.merge([climo_delta_soil_percent_change_gfdl('mrlsl').fillna(0)*mask,\n",
    "                      merged_ds])\n",
    "\n",
    "merged_ds = xr.merge([climo_delta_soil_gfdl('tsl').fillna(0)*mask,\n",
    "                      merged_ds])\n",
    "\n",
    "merged_ds = merged_ds.rename({'tsl':'Soil Temperature',\n",
    "                              'mrlsl':'Soil Moisture'})\n",
    "\n",
    "merged_ds['depth'] = merged_ds.depth * 100\n",
    "\n",
    "gfdl_ds = merged_ds"
   ]
  },
  {
   "cell_type": "markdown",
   "metadata": {},
   "source": [
    "#### And finally NCAR"
   ]
  },
  {
   "cell_type": "code",
   "execution_count": null,
   "metadata": {},
   "outputs": [
    {
     "name": "stderr",
     "output_type": "stream",
     "text": [
      "Found lat/lon values, assuming latitude_longitude for projection grid_mapping variable\n",
      "Found lat/lon values, assuming latitude_longitude for projection grid_mapping variable\n"
     ]
    },
    {
     "name": "stdout",
     "output_type": "stream",
     "text": [
      "Reuse existing file: bilinear_192x288_428x614.nc\n",
      "using dimensions ('lat', 'lon') from data variable mrlsl as the horizontal dimensions for this dataset.\n"
     ]
    },
    {
     "name": "stderr",
     "output_type": "stream",
     "text": [
      "Found lat/lon values, assuming latitude_longitude for projection grid_mapping variable\n",
      "Found lat/lon values, assuming latitude_longitude for projection grid_mapping variable\n"
     ]
    },
    {
     "name": "stdout",
     "output_type": "stream",
     "text": [
      "Reuse existing file: bilinear_192x288_428x614.nc\n",
      "using dimensions ('lat', 'lon') from data variable mrlsl as the horizontal dimensions for this dataset.\n",
      "Reuse existing file: bilinear_192x288_428x614.nc\n",
      "using dimensions ('lat', 'lon') from data variable tsl as the horizontal dimensions for this dataset.\n"
     ]
    }
   ],
   "source": [
    "merged_ds = xr.Dataset()\n",
    "\n",
    "merged_ds = xr.merge([climo_delta_soil_percent_change_ncar('mrlsl').fillna(0)*mask,\n",
    "                      merged_ds])\n",
    "\n",
    "merged_ds = xr.merge([climo_delta_soil_ncar('tsl').fillna(0)*mask,\n",
    "                      merged_ds])\n",
    "\n",
    "merged_ds = merged_ds.rename({'tsl':'Soil Temperature',\n",
    "                              'mrlsl':'Soil Moisture'})\n",
    "\n",
    "merged_ds['depth'] = merged_ds.depth * 100\n",
    "\n",
    "ncar_ds = merged_ds"
   ]
  },
  {
   "cell_type": "code",
   "execution_count": null,
   "metadata": {},
   "outputs": [],
   "source": [
    "def surface_plot(ds, model_name):\n",
    "    \"\"\"\n",
    "    Plots surface temperature and u-component of the wind using the climate delta\n",
    "    datasets\n",
    "    \n",
    "    Input:\n",
    "    \n",
    "    ds = input datset (ex. miroc_ds) - this contains the climate change deltas\n",
    "    \n",
    "    model name = string (name of model ex. MIROC)\n",
    "    \"\"\"\n",
    "    temp_sfc = ds['Soil Temperature'].sel(depth=10).values\n",
    "    clevs_temp = np.arange(0, 15.5, 0.5)\n",
    "\n",
    "    # Grab the lats and lons\n",
    "    lons = ds.lon.values\n",
    "    lats = ds.lat.values\n",
    "    \n",
    "    # Set projection of data (so we can transform for the figure)\n",
    "    datacrs = ccrs.PlateCarree()\n",
    "\n",
    "    # Start figure and set extent to be over CONUS\n",
    "    fig = plt.figure(1, figsize=(14, 12))\n",
    "    ax = plt.subplot(111, projection=nam_crs)\n",
    "\n",
    "    # Add coastline and state map features\n",
    "    ax.add_feature(cfeature.COASTLINE.with_scale('50m'))\n",
    "    ax.add_feature(cfeature.STATES.with_scale('50m'))\n",
    "\n",
    "    # Plot colorfill and dashed contours of 700-hPa temperatures in Celsius\n",
    "    cf = ax.contourf(lons, lats, temp_sfc, clevs_temp, cmap=plt.cm.hot_r, transform=datacrs)\n",
    "    cb = plt.colorbar(cf, orientation='horizontal', pad=0, aspect=50)\n",
    "    cb.set_label('Temperature (C)')\n",
    "\n",
    "    plt.title(model_name +' May Monthly Average (2090-2099 - 1990-1999) \\u0394T of Soil @ 0.1m Below the Surface')\n",
    "    plt.savefig(model_name + '_DeltaT_Soil.png')"
   ]
  },
  {
   "cell_type": "code",
   "execution_count": null,
   "metadata": {},
   "outputs": [],
   "source": [
    "surface_plot(miroc_ds, 'MIROC_with_mask')"
   ]
  },
  {
   "cell_type": "code",
   "execution_count": null,
   "metadata": {},
   "outputs": [],
   "source": [
    "surface_plot(gfdl_ds, 'GFDL_with_mask')"
   ]
  },
  {
   "cell_type": "code",
   "execution_count": null,
   "metadata": {},
   "outputs": [],
   "source": [
    "surface_plot(ncar_ds, 'NCAR_with_mask')"
   ]
  },
  {
   "cell_type": "markdown",
   "metadata": {},
   "source": [
    "---\n",
    "### Write to files"
   ]
  },
  {
   "cell_type": "markdown",
   "metadata": {},
   "source": [
    "\n",
    "#### MIROC"
   ]
  },
  {
   "cell_type": "code",
   "execution_count": null,
   "metadata": {},
   "outputs": [],
   "source": [
    "# Check to make sure there is not a coordinate reference system still\n",
    "# associated with the dataset - or else there will be issues\n",
    "try:\n",
    "    miroc_ds = miroc_ds.drop('crs')\n",
    "except ValueError:\n",
    "    None\n",
    "\n",
    "miroc_ds.to_netcdf('../preliminary_netcdf/MIROC_soil_vars.nc')"
   ]
  },
  {
   "cell_type": "markdown",
   "metadata": {},
   "source": [
    "#### GFDL"
   ]
  },
  {
   "cell_type": "code",
   "execution_count": null,
   "metadata": {},
   "outputs": [],
   "source": [
    "# Check to make sure there is not a coordinate reference system still\n",
    "# associated with the dataset - or else there will be issues\n",
    "try:\n",
    "    gfdl_ds = gfdl_ds.drop('crs')\n",
    "except ValueError:\n",
    "    None\n",
    "\n",
    "gfdl_ds.to_netcdf('../preliminary_netcdf/GFDL_soil_vars.nc')"
   ]
  },
  {
   "cell_type": "markdown",
   "metadata": {},
   "source": [
    "#### NCAR"
   ]
  },
  {
   "cell_type": "code",
   "execution_count": null,
   "metadata": {},
   "outputs": [],
   "source": [
    "# Check to make sure there is not a coordinate reference system still\n",
    "# associated with the dataset - or else there will be issues\n",
    "try:\n",
    "    ncar_ds = ncar_ds.drop('crs')\n",
    "except ValueError:\n",
    "    None\n",
    "ncar_ds.to_netcdf('../preliminary_netcdf/NCAR_soil_vars.nc')"
   ]
  },
  {
   "cell_type": "code",
   "execution_count": null,
   "metadata": {},
   "outputs": [],
   "source": [
    "nam_data['lat'] = nam_including_coords_ds.latitude\n",
    "nam_data['lon'] = nam_including_coords_ds.longitude"
   ]
  },
  {
   "cell_type": "code",
   "execution_count": null,
   "metadata": {},
   "outputs": [],
   "source": [
    "ds = xr.Dataset(nam_data['Temperature_layer_between_two_pressure_difference_from_ground_layer'][0]+climo_delta_soil_ncar('tsl').fillna(0))"
   ]
  }
 ],
 "metadata": {
  "kernelspec": {
   "display_name": "Python 3",
   "language": "python",
   "name": "python3"
  },
  "language_info": {
   "codemirror_mode": {
    "name": "ipython",
    "version": 3
   },
   "file_extension": ".py",
   "mimetype": "text/x-python",
   "name": "python",
   "nbconvert_exporter": "python",
   "pygments_lexer": "ipython3",
   "version": "3.7.3"
  }
 },
 "nbformat": 4,
 "nbformat_minor": 4
}
