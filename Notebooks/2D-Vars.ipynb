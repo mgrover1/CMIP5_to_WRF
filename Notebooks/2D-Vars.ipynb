{
 "cells": [
  {
   "cell_type": "code",
   "execution_count": 1,
   "metadata": {},
   "outputs": [],
   "source": [
    "from dask_jobqueue import SLURMCluster\n",
    "from dask.distributed import Client\n",
    "\n",
    "import xarray as xr\n",
    "import metpy\n",
    "from metpy.units import units\n",
    "import iris\n",
    "import cartopy.crs as ccrs\n",
    "import cartopy.feature as cfeature\n",
    "import matplotlib.pyplot as plt\n",
    "import numpy as np\n",
    "import cfgrib\n",
    "import xesmf as xe\n",
    "import xgeo\n",
    "import pyproj\n",
    "import ESMF\n",
    "import warnings\n",
    "from datetime import datetime\n",
    "warnings.filterwarnings(\"ignore\")"
   ]
  },
  {
   "cell_type": "code",
   "execution_count": 2,
   "metadata": {},
   "outputs": [],
   "source": [
    "cluster = SLURMCluster()\n",
    "cluster.scale(1)\n",
    "client = Client(cluster)"
   ]
  },
  {
   "cell_type": "code",
   "execution_count": 3,
   "metadata": {},
   "outputs": [],
   "source": [
    "# Grab NAM Coordinates from reanalysis dataset on Keeling\n",
    "nam_including_coords_ds = xr.open_dataset('/data/meso/a/jtrapp/formax/namanl_218_20100510_1200_000.grb', engine='cfgrib',\n",
    "                                           backend_kwargs={\n",
    "                                                            'filter_by_keys': {'cfName': 'eastward_wind', 'typeOfLevel': 'isobaricInhPa'},\n",
    "                                                            'errors': 'ignore'\n",
    "                                                            }\n",
    "                                         )\n",
    "ds_out = nam_including_coords_ds.rename({'isobaricInhPa': 'plev', 'longitude': 'lon', 'latitude': 'lat'})"
   ]
  },
  {
   "cell_type": "code",
   "execution_count": 4,
   "metadata": {},
   "outputs": [],
   "source": [
    "base_url = 'https://www.ncei.noaa.gov/thredds/dodsC/namanl/'\n",
    "dt = datetime(2009, 5, 7, 18)\n",
    "nam_data = xr.open_dataset('{}{dt:%Y%m}/{dt:%Y%m%d}/namanl_218_{dt:%Y%m%d}_'\n",
    "                       '{dt:%H}00_000.grb'.format(base_url, dt=dt),\n",
    "                       decode_times=True)\n",
    "\n",
    "nam_temp = nam_data.metpy.parse_cf('Temperature_isobaric')[0]\n",
    "nam_crs = nam_temp.metpy.cartopy_crs"
   ]
  },
  {
   "cell_type": "code",
   "execution_count": 5,
   "metadata": {},
   "outputs": [],
   "source": [
    "def monthly_average(ds_in, variable, start_year=1990, end_year=1999, month_num=5):\n",
    "    \"\"\"\n",
    "    Takes the input xarray dataset, converts the times from cftimes to\n",
    "    datetime objects. It then subsets the time based on the given years, \n",
    "    and calculates the monthly averages\n",
    "    \"\"\"\n",
    "    \n",
    "    # Converts the cftimes to datetime\n",
    "    ds_in['time'] = ds_in.indexes['time'].to_datetimeindex()\n",
    "    \n",
    "    # Subsets times based on given years\n",
    "    ds_in = ds_in.sel(time = slice(datetime(start_year, 1, 16, 12),\n",
    "                                   datetime(end_year, 12, 16, 12 )))\n",
    "    \n",
    "    # Find the monthly average\n",
    "    monthly_avg = ds_in[variable].groupby('time.month').mean('time')\n",
    "    \n",
    "    mon_avg = monthly_avg.sel(month=month_num)\n",
    "    \n",
    "    mon_avg_ds = mon_avg.to_dataset()\n",
    "    \n",
    "    # Setup the regridder - keek reuse_weights = True to use the regridder in the directory\n",
    "    regridder = xe.Regridder(mon_avg_ds, ds_out, 'bilinear', reuse_weights=True)\n",
    "\n",
    "    return regridder(mon_avg_ds)\n",
    "\n",
    "def climo_delta_2d_miroc(variable):\n",
    "    # Path to the directory containing the MIROC dataset\n",
    "    first_path = '/data/jtrapp/a/jtrapp/CMIP5/MIROC/'\n",
    "    \n",
    "    # Path to the historical data\n",
    "    end_path_historical = '_Amon_MIROC5_historical_r1i1p1_185001-201212.nc'\n",
    " \n",
    "    # Path to the future projections (RCP 8.5)\n",
    "    end_path_future = '_Amon_MIROC5_rcp85_r1i1p1_200601-210012.nc'\n",
    "\n",
    "    # Historical U-component of the wind\n",
    "    past_ds = xr.open_dataset(first_path + variable + end_path_historical).metpy.parse_cf()\n",
    "\n",
    "    # Future U-component of the wind\n",
    "    future_ds = xr.open_dataset(first_path + variable + end_path_future).metpy.parse_cf()\n",
    "    \n",
    "    return (monthly_average(future_ds, variable, 2090, 2099) - monthly_average(past_ds, variable))\n",
    "\n",
    "def climo_delta_2d_gfdl(variable):\n",
    "    # Path to the directory containing the MIROC dataset\n",
    "    directory_path = '/data/jtrapp/a/jtrapp/CMIP5/GFDL/'\n",
    "    \n",
    "    # End path for the historical 3d variables\n",
    "    end_path_historical1 = '_Amon_GFDL-CM3_historical_r1i1p1_199001-199412.nc'\n",
    "    end_path_historical2 = '_Amon_GFDL-CM3_historical_r1i1p1_199501-199912.nc'\n",
    "\n",
    "    # End path for the future 3d variables\n",
    "    end_path_future1 = '_Amon_GFDL-CM3_rcp85_r1i1p1_209101-209512.nc'\n",
    "    end_path_future2 = '_Amon_GFDL-CM3_rcp85_r1i1p1_209601-210012.nc'\n",
    "    \n",
    "    # Historical U-component of the wind\n",
    "    past_ds = xr.concat([xr.open_dataset(directory_path + variable + end_path_historical1).metpy.parse_cf(),\n",
    "                               xr.open_dataset(directory_path + variable + end_path_historical2).metpy.parse_cf()], dim='time')\n",
    "\n",
    "    # Future U-component of the wind\n",
    "    future_ds = xr.concat([xr.open_dataset(directory_path + variable + end_path_future1).metpy.parse_cf(),\n",
    "                           xr.open_dataset(directory_path + variable + end_path_future2).metpy.parse_cf()], dim='time')\n",
    "\n",
    "    return (monthly_average(future_ds, variable, 2090, 2099) - monthly_average(past_ds, variable))\n",
    "\n",
    "def climo_delta_2d_ncar(variable):\n",
    "    # Path to the directory containing the MIROC dataset\n",
    "    first_path = '/data/jtrapp/a/jtrapp/CMIP5/NCAR/'\n",
    "    \n",
    "    # Path to the historical data\n",
    "    end_path_historical = '_Amon_CCSM4_historical_r1i1p1_185001-200512.nc'\n",
    " \n",
    "    # Path to the future projections (RCP 8.5)\n",
    "    end_path_future = '_Amon_CCSM4_rcp85_r1i1p1_200601-210012.nc'\n",
    "\n",
    "    # Historical U-component of the wind\n",
    "    past_ds = xr.open_dataset(first_path + variable + end_path_historical).metpy.parse_cf()\n",
    "\n",
    "    # Future U-component of the wind\n",
    "    future_ds = xr.open_dataset(first_path + variable + end_path_future).metpy.parse_cf()\n",
    "\n",
    "    return (monthly_average(future_ds, variable, 2090, 2099) - monthly_average(past_ds, variable))"
   ]
  },
  {
   "cell_type": "markdown",
   "metadata": {},
   "source": [
    "## Setup the 2-D Atmospheric Variables with their standard names"
   ]
  },
  {
   "cell_type": "code",
   "execution_count": null,
   "metadata": {},
   "outputs": [],
   "source": [
    "# Variables that are used \n",
    "variables = ['uas','vas','tas','hurs','huss','ts','ps','psl']\n",
    "\n",
    "# CF compliant variables name that match the NAM field names\n",
    "cf_names = {'uas':'u-component_of_wind_height_above_ground',\n",
    "            'vas':'v-component_of_wind_height_above_ground',\n",
    "            'tas':'Temperature_height_above_ground',\n",
    "            'hurs':'Relative_humidity_height_above_ground',\n",
    "            'huss':'specific_humidity', # Not sure how to incoporate this into NAM vars\n",
    "            'ts':'Temperature_surface',\n",
    "            'ps':'Pressure_surface',\n",
    "            'psl':'Pressure_reduced_to_MSL_msl'}"
   ]
  },
  {
   "cell_type": "markdown",
   "metadata": {},
   "source": [
    "## Calculate Climate Change Deltas for the MIROC5 Dataset"
   ]
  },
  {
   "cell_type": "code",
   "execution_count": null,
   "metadata": {},
   "outputs": [],
   "source": [
    "# Setup the dataset that everything will be merged with\n",
    "merged_ds = xr.Dataset()\n",
    "for var in variables:\n",
    "    delta_ds = climo_delta_2d_miroc(var).rename({var:cf_names[var]})\n",
    "    merged_ds = xr.merge([delta_ds, merged_ds], compat='override')\n",
    "\n",
    "miroc_ds = merged_ds"
   ]
  },
  {
   "cell_type": "markdown",
   "metadata": {},
   "source": [
    "## Calcualte Climate Change Deltas for the GFDL Dataset"
   ]
  },
  {
   "cell_type": "code",
   "execution_count": null,
   "metadata": {},
   "outputs": [],
   "source": [
    "# Setup the dataset that everything will be merged with\n",
    "merged_ds = xr.Dataset()\n",
    "for var in variables:\n",
    "    delta_ds = climo_delta_2d_gfdl(var).rename({var:cf_names[var]})\n",
    "    merged_ds = xr.merge([delta_ds, merged_ds], compat='override')\n",
    "\n",
    "gfdl_ds = merged_ds"
   ]
  },
  {
   "cell_type": "markdown",
   "metadata": {},
   "source": [
    "## Calcualte Climate Change Deltas for the NCAR CCSM Dataset"
   ]
  },
  {
   "cell_type": "code",
   "execution_count": null,
   "metadata": {},
   "outputs": [],
   "source": [
    "# Setup the dataset that everything will be merged with\n",
    "merged_ds = xr.Dataset()\n",
    "for var in variables:\n",
    "    try:\n",
    "        delta_ds = climo_delta_2d_ncar(var).rename({var:cf_names[var]})\n",
    "        merged_ds = xr.merge([delta_ds, merged_ds], compat='override')\n",
    "    except:\n",
    "        continue\n",
    "ncar_ds = merged_ds"
   ]
  },
  {
   "cell_type": "code",
   "execution_count": null,
   "metadata": {},
   "outputs": [],
   "source": [
    "def surface_plot(ds, model_name):\n",
    "    \"\"\"\n",
    "    Plots surface temperature and u-component of the wind using the climate delta\n",
    "    datasets\n",
    "    \n",
    "    Input:\n",
    "    \n",
    "    ds = input datset (ex. miroc_ds) - this contains the climate change deltas\n",
    "    \n",
    "    model name = string (name of model ex. MIROC)\n",
    "    \"\"\"\n",
    "    temp_sfc = ds['Temperature_height_above_ground'].values\n",
    "    clevs_temp = np.arange(0, 15.5, 0.5)\n",
    " \n",
    "    wind_sfc = ds['u-component_of_wind_height_above_ground'].values\n",
    "    clevs_wind = np.arange(-3, 3.5, 0.5)\n",
    "\n",
    "    # Grab the lats and lons\n",
    "    lons = miroc_ds.lon.values\n",
    "    lats = miroc_ds.lat.values\n",
    "    \n",
    "    \n",
    "    # Set projection of data (so we can transform for the figure)\n",
    "    datacrs = ccrs.PlateCarree()\n",
    "\n",
    "    # Start figure and set extent to be over CONUS\n",
    "    fig = plt.figure(1, figsize=(14, 12))\n",
    "    ax = plt.subplot(111, projection=nam_crs)\n",
    "\n",
    "    # Add coastline and state map features\n",
    "    ax.add_feature(cfeature.COASTLINE.with_scale('50m'))\n",
    "    ax.add_feature(cfeature.STATES.with_scale('50m'))\n",
    "\n",
    "    # Plot colorfill and dashed contours of 700-hPa temperatures in Celsius\n",
    "    cf = ax.contourf(lons, lats, temp_sfc, clevs_temp, cmap=plt.cm.hot_r, transform=datacrs)\n",
    "    cb = plt.colorbar(cf, orientation='horizontal', pad=0, aspect=50)\n",
    "    cb.set_label('Temperature (C)')\n",
    "\n",
    "    # Plot contours of 500-hPa change in zonal wind\n",
    "    cs = ax.contour(lons, lats, wind_sfc, clevs_wind, colors='black', transform=datacrs)\n",
    "    plt.clabel(cs, fmt='%d')\n",
    "\n",
    "    plt.title(model_name +' May Monthly Average (2090-2099 - 1990-1999) \\u0394T @ 2m and \\u0394U @ 10m')\n",
    "    plt.savefig(model_name + '_DeltaT_Sfc_DeltaU_Sfc.png')"
   ]
  },
  {
   "cell_type": "code",
   "execution_count": null,
   "metadata": {},
   "outputs": [],
   "source": [
    "surface_plot(miroc_ds, 'MIROC')"
   ]
  },
  {
   "cell_type": "code",
   "execution_count": null,
   "metadata": {},
   "outputs": [],
   "source": [
    "surface_plot(gfdl_ds, 'GFDL')"
   ]
  },
  {
   "cell_type": "code",
   "execution_count": null,
   "metadata": {},
   "outputs": [],
   "source": [
    "ds = ncar_ds\n",
    "model_name = 'NCAR'\n",
    "\n",
    "temp_sfc = ds['Temperature_height_above_ground'].values\n",
    "clevs_temp = np.arange(0, 15.5, 0.5)\n",
    "\n",
    "# Grab the lats and lons\n",
    "lons = miroc_ds.lon.values\n",
    "lats = miroc_ds.lat.values\n",
    "    \n",
    "    \n",
    "# Set projection of data (so we can transform for the figure)\n",
    "datacrs = ccrs.PlateCarree()\n",
    "\n",
    "# Start figure and set extent to be over CONUS\n",
    "fig = plt.figure(1, figsize=(14, 12))\n",
    "ax = plt.subplot(111, projection=nam_crs)\n",
    "\n",
    "# Add coastline and state map features\n",
    "ax.add_feature(cfeature.COASTLINE.with_scale('50m'))\n",
    "ax.add_feature(cfeature.STATES.with_scale('50m'))\n",
    "\n",
    "# Plot colorfill and dashed contours of 700-hPa temperatures in Celsius\n",
    "cf = ax.contourf(lons, lats, temp_sfc, clevs_temp, cmap=plt.cm.hot_r, transform=datacrs)\n",
    "cb = plt.colorbar(cf, orientation='horizontal', pad=0, aspect=50)\n",
    "cb.set_label('Temperature (C)')\n",
    "\n",
    "plt.title(model_name +' May Monthly Average (2090-2099 - 1990-1999) \\u0394T @ 2m')\n",
    "plt.savefig(model_name + '_DeltaT_Sfc_DeltaU_Sfc.png')"
   ]
  }
 ],
 "metadata": {
  "kernelspec": {
   "display_name": "Python 3",
   "language": "python",
   "name": "python3"
  },
  "language_info": {
   "codemirror_mode": {
    "name": "ipython",
    "version": 3
   },
   "file_extension": ".py",
   "mimetype": "text/x-python",
   "name": "python",
   "nbconvert_exporter": "python",
   "pygments_lexer": "ipython3",
   "version": "3.7.4"
  }
 },
 "nbformat": 4,
 "nbformat_minor": 4
}
