{
 "cells": [
  {
   "cell_type": "markdown",
   "metadata": {},
   "source": [
    "## For this process, we will primarily use PyGrib"
   ]
  },
  {
   "cell_type": "markdown",
   "metadata": {},
   "source": [
    "\n",
    "\n",
    "---\n",
    "### Before running through this notebook, make sure to complete these notebooks\n",
    "- [2D Variables](2D-Vars.ipynb)\n",
    "- [3D Variables](3D-Vars.ipynb)\n",
    "- [Surface Variables](Surface_Variables.ipynb)\n",
    "---\n",
    "\n",
    "\n",
    "#### Running these notebooks will create graphics to visualize the climate change deltas, in addition to netCDF files that contain the data\n",
    "---\n",
    "\n"
   ]
  },
  {
   "cell_type": "markdown",
   "metadata": {},
   "source": [
    "### **Import libraries and setup file paths**\n",
    "\n",
    "\n",
    "#### Now that teverything is setup, let's import the neccessary libraries"
   ]
  },
  {
   "cell_type": "code",
   "execution_count": 1,
   "metadata": {},
   "outputs": [],
   "source": [
    "import pygrib\n",
    "import ncepgrib2\n",
    "import xarray as xr"
   ]
  },
  {
   "cell_type": "markdown",
   "metadata": {},
   "source": [
    "#### This is where you input where the NAM Analysis files are stored"
   ]
  },
  {
   "cell_type": "code",
   "execution_count": 2,
   "metadata": {},
   "outputs": [],
   "source": [
    "# Directory all the NAM Analysis files are stored\n",
    "nam_filepath = '/data/meso/a/jtrapp/formax/'\n",
    "\n",
    "# Directory you would like the modified NAM files to be placed\n",
    "new_filepath = '/data/keeling/a/mgrover4/b/CMIP5_to_WRF/modified_files/'\n",
    "\n",
    "# Test file\n",
    "file = 'namanl_218_20100510_1200_000.grb'"
   ]
  },
  {
   "cell_type": "markdown",
   "metadata": {},
   "source": [
    "---\n",
    "### **File Exploration**\n",
    "\n",
    "\n",
    "#### Let's start by looking at what is included within the NAM file"
   ]
  },
  {
   "cell_type": "code",
   "execution_count": 7,
   "metadata": {},
   "outputs": [],
   "source": [
    "# Read in the data using pygrib\n",
    "grbs = pygrib.open(nam_filepath + file)"
   ]
  },
  {
   "cell_type": "code",
   "execution_count": 8,
   "metadata": {},
   "outputs": [],
   "source": [
    "# Let's see what variables are stored in the grib file\n",
    "variables = []\n",
    "level_type = []\n",
    "for grb in grbs:\n",
    "    # Create a variable for the variable name (cf convention)\n",
    "    var = grb.cfName\n",
    "    # Create a variable for the level type\n",
    "    level = grb.typeOfLevel\n",
    "    if var not in variables:\n",
    "        # If there is a new variable, add it to the list!\n",
    "        variables.append(var)\n",
    "    else:\n",
    "        # If it is not a new variable, continue looping through\n",
    "        continue\n",
    "    if level not in level_type:\n",
    "        level_type.append(level)\n",
    "    else:\n",
    "        continue"
   ]
  },
  {
   "cell_type": "markdown",
   "metadata": {},
   "source": [
    "#### These are the different variables (cf-convention)"
   ]
  },
  {
   "cell_type": "code",
   "execution_count": 9,
   "metadata": {},
   "outputs": [
    {
     "name": "stdout",
     "output_type": "stream",
     "text": [
      "unknown\n",
      "surface_air_pressure\n",
      "geopotential_height\n",
      "air_temperature\n",
      "relative_humidity\n",
      "eastward_wind\n",
      "northward_wind\n",
      "surface_roughness_length\n",
      "surface_upward_sensible_heat_flux\n",
      "surface_upward_latent_heat_flux\n",
      "land_binary_mask\n",
      "surface_albedo\n",
      "lagrangian_tendency_of_air_pressure\n"
     ]
    }
   ],
   "source": [
    "for var in variables:\n",
    "    print(var)"
   ]
  },
  {
   "cell_type": "markdown",
   "metadata": {},
   "source": [
    "#### These are the different level types"
   ]
  },
  {
   "cell_type": "code",
   "execution_count": 10,
   "metadata": {},
   "outputs": [
    {
     "name": "stdout",
     "output_type": "stream",
     "text": [
      "meanSea\n",
      "surface\n",
      "heightAboveGround\n",
      "isobaricInhPa\n"
     ]
    }
   ],
   "source": [
    "for lev in level_type:\n",
    "    print(lev)"
   ]
  },
  {
   "cell_type": "markdown",
   "metadata": {},
   "source": [
    "---\n",
    "### **Write to File**\n",
    "\n",
    "\n",
    "### This function loops through grib file and edit values with climate change delta"
   ]
  },
  {
   "cell_type": "code",
   "execution_count": 46,
   "metadata": {},
   "outputs": [],
   "source": [
    "def modify_grib_file(model, namfile, output_file_path):\n",
    "    ds_2d = xr.open_dataset('../preliminary_netcdf/'+model+'_2d_vars.nc')\n",
    "    ds_3d = xr.open_dataset('../preliminary_netcdf/'+model+'_3d_vars.nc')\n",
    "    ds_soil = xr.open_dataset('../preliminary_netcdf/'+model+'_soil_vars.nc')\n",
    "    ds_rh = xr.open_dataset('../preliminary_netcdf/'+model+'_RH_vars.nc')\n",
    "    \n",
    "    # Read in the data using pygrib\n",
    "    grbs = pygrib.open(nam_filepath + file)\n",
    "\n",
    "    grbout = open(output_file_path + model +'_' + file,'wb')\n",
    "    i = 0\n",
    "    for grb in grbs:\n",
    "    \n",
    "        # Isobaric surface variables 3D\n",
    "        if grb.typeOfLevel == 'isobaricInhPa':\n",
    "    \n",
    "            # Modify geopotential height fields\n",
    "            if grb.cfName == 'geopotential_height':\n",
    "                try:\n",
    "                    grb['values'] = grb.values + ds_3d['geopotential_height'].sel(isobaric = grb.level)\n",
    "                except KeyError:\n",
    "                    None\n",
    "    \n",
    "            # Modify temperature fields\n",
    "            elif grb.cfName == 'air_temperature':\n",
    "                grb['values'] = grb.values + ds_3d['air_temperature'].sel(isobaric = grb.level)\n",
    "        \n",
    "            # 3-D V-component of wind\n",
    "            elif grb.cfName == 'northward_wind':\n",
    "                grb['values'] = grb.values + ds_3d['northward_wind'].sel(isobaric = grb.level)\n",
    "        \n",
    "            # 3-D U-component of wind\n",
    "            elif grb.cfName == 'eastward_wind':\n",
    "                grb['values'] = grb.values + ds_3d['eastward_wind'].sel(isobaric = grb.level)\n",
    "        \n",
    "            # 3-D Relative humidity\n",
    "            elif grb.name == 'Relative humidity':\n",
    "                try:\n",
    "                    grb['values'] = grb.values + ds_rh['Relative_humidity_isobaric'].sel(isobaric = grb.level)\n",
    "                except KeyError:\n",
    "                    None\n",
    "\n",
    "        # Variables near surface - 2D\n",
    "        elif grb.typeOfLevel == 'heightAboveGround':\n",
    "        \n",
    "            # 2m Temperature\n",
    "            if grb.name == '2 metre temperature':\n",
    "                grb['values'] = grb.values + ds_2d['2 metre temperature'].values\n",
    "        \n",
    "            # Dewpoint\n",
    "        \n",
    "            # Relative humidty at 2m above surface\n",
    "            elif grb.name == 'Relative humidity':\n",
    "                grb['values'] = grb.values + ds_2d['Relative humidity'].values\n",
    "            \n",
    "            # U-wind at 10 meters above ground\n",
    "            elif grb.name == '10 metre U wind component':\n",
    "                try:\n",
    "                    grb['values'] = grb.values + ds_2d['10 metre U wind component'].values\n",
    "                except KeyError:\n",
    "                    None\n",
    "\n",
    "            # V-wind at 10 meters above ground\n",
    "            elif grb.name == '10 metre V wind component':\n",
    "                try:\n",
    "                    grb['values'] = grb.values + ds_2d['10 metre V wind component'].values\n",
    "                except KeyError:\n",
    "                    None\n",
    "    \n",
    "        elif grb.typeOfLevel == 'surface':\n",
    "\n",
    "            # Surface pressure\n",
    "            if grb.cfName == 'pressure_at_surface':\n",
    "                grb['values'] = grb.values + ds_2d['pressure_at_surface'].values\n",
    "\n",
    "            # Surface temperature\n",
    "            elif grb.cfName == 'air_temperature':\n",
    "                grb['values'] = grb.values + ds_2d['air_temperature'].values\n",
    "    \n",
    "        elif grb.typeOfLevel == 'depthBelowLandLayer':\n",
    "        \n",
    "            # Soil temperature below surface - 3D\n",
    "            if grb.name == 'Soil Temperature':\n",
    "                grb['values'] = grb.values + ds_soil['Soil Temperature'].sel(depth = grb.level)\n",
    "\n",
    "            # Soil moisture - 2D\n",
    "            if grb.name == 'Soil Moisture':\n",
    "                grb['values'] = grb.values + (grb.values * ds_soil['Soil Moisture'].values)\n",
    "    \n",
    "        elif grb.typeOfLevel == 'depthBelowLand':\n",
    "        \n",
    "            # Soil temperature at 3 m below surface\n",
    "            grb['values'] = grb.values + ds_soil['Soil Temperature'].sel(depth = grb.level)\n",
    "    \n",
    "        elif grb.name == 'Mean sea level pressure':\n",
    "        \n",
    "            # Mean sea-level pressure\n",
    "            grb['values'] = grb.values + ds_2d['Pressure_reduced_to_MSL_msl'].values\n",
    "    \n",
    "        else:\n",
    "            None\n",
    "    \n",
    "        # Write the grib message to the file\n",
    "        msg = grb.tostring()\n",
    "        grbout.write(msg)\n",
    "    \n",
    "    # Close the grib file\n",
    "    grbout.close()\n",
    "    \n",
    "    # Provide an update on the progress\n",
    "    print('Finish Writing ', model)"
   ]
  },
  {
   "cell_type": "markdown",
   "metadata": {},
   "source": [
    "### Loop through the 3 models that were used in this study\n",
    "- MIROC\n",
    "- GFDL\n",
    "- NCAR CCSM"
   ]
  },
  {
   "cell_type": "code",
   "execution_count": 47,
   "metadata": {},
   "outputs": [
    {
     "name": "stdout",
     "output_type": "stream",
     "text": [
      "Finish Writing  MIROC\n",
      "Finish Writing  GFDL\n",
      "Finish Writing  NCAR\n"
     ]
    }
   ],
   "source": [
    "# List of the different models\n",
    "models = ['MIROC', 'GFDL', 'NCAR']\n",
    "\n",
    "# NAM file path and file name - use values previously defined\n",
    "namfile = nam_filepath + file\n",
    "\n",
    "# Desired output path - use values previously defined\n",
    "output_file_path = new_filepath\n",
    "\n",
    "# Loop through the different models\n",
    "for model in models:\n",
    "    \n",
    "    # Use the function defined in the previous cell\n",
    "    modify_grib_file(model, namfile, output_file_path)"
   ]
  }
 ],
 "metadata": {
  "kernelspec": {
   "display_name": "Python 3",
   "language": "python",
   "name": "python3"
  },
  "language_info": {
   "codemirror_mode": {
    "name": "ipython",
    "version": 3
   },
   "file_extension": ".py",
   "mimetype": "text/x-python",
   "name": "python",
   "nbconvert_exporter": "python",
   "pygments_lexer": "ipython3",
   "version": "3.7.3"
  }
 },
 "nbformat": 4,
 "nbformat_minor": 4
}
