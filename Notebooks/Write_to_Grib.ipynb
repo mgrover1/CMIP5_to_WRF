{
 "cells": [
  {
   "cell_type": "markdown",
   "metadata": {},
   "source": [
    "## For this process, we will primarily use PyGrib"
   ]
  },
  {
   "cell_type": "markdown",
   "metadata": {},
   "source": [
    "---\n",
    "### Before running through this notebook, make sure to complete these notebooks\n",
    "- [2D Variables](2D-Vars.ipynb)\n",
    "- [3D Variables](3D-Vars.ipynb)\n",
    "- [Surface Variables](Surface_Variables.ipynb)\n",
    "---\n",
    "#### Running these notebooks will create graphics to visualize the climate change deltas, in addition to netCDF files that contain the data\n",
    "---"
   ]
  },
  {
   "cell_type": "markdown",
   "metadata": {},
   "source": [
    "#### Now that teverything is setup, let's import the neccessary libraries"
   ]
  },
  {
   "cell_type": "code",
   "execution_count": 1,
   "metadata": {},
   "outputs": [],
   "source": [
    "import pygrib\n",
    "import ncepgrib2"
   ]
  },
  {
   "cell_type": "markdown",
   "metadata": {},
   "source": [
    "#### This is where you input where the NAM Analysis files are stored"
   ]
  },
  {
   "cell_type": "code",
   "execution_count": 2,
   "metadata": {},
   "outputs": [],
   "source": [
    "# Directory all the NAM Analysis files are stored\n",
    "nam_filepath = '/data/meso/a/jtrapp/formax/'\n",
    "\n",
    "# Directory you would like the modified NAM files to be placed\n",
    "new_filepath = '/data/keeling/a/mgrover4/b/CMIP5_to_WRF/modified_files/'\n",
    "\n",
    "# Test file\n",
    "file = 'namanl_218_20100510_1200_000.grb'"
   ]
  },
  {
   "cell_type": "code",
   "execution_count": 3,
   "metadata": {},
   "outputs": [],
   "source": [
    "# Read in the data using pygrib\n",
    "grbs = pygrib.open(nam_filepath + file)"
   ]
  },
  {
   "cell_type": "code",
   "execution_count": 4,
   "metadata": {},
   "outputs": [],
   "source": [
    "# Let's see what variables are stored in the grib file\n",
    "variables = []\n",
    "level_type = []\n",
    "for grb in grbs:\n",
    "    # Create a variable for the variable name (cf convention)\n",
    "    var = grb.cfName\n",
    "    # Create a variable for the level type\n",
    "    level = grb.typeOfLevel\n",
    "    if var not in variables:\n",
    "        # If there is a new variable, add it to the list!\n",
    "        variables.append(var)\n",
    "    else:\n",
    "        # If it is not a new variable, continue looping through\n",
    "        continue\n",
    "    if level not in level_type:\n",
    "        level_type.append(level)\n",
    "    else:\n",
    "        continue"
   ]
  },
  {
   "cell_type": "markdown",
   "metadata": {},
   "source": [
    "### These are the different variables (cf-convention)"
   ]
  },
  {
   "cell_type": "code",
   "execution_count": 5,
   "metadata": {},
   "outputs": [
    {
     "name": "stdout",
     "output_type": "stream",
     "text": [
      "unknown\n",
      "surface_air_pressure\n",
      "geopotential_height\n",
      "air_temperature\n",
      "relative_humidity\n",
      "eastward_wind\n",
      "northward_wind\n",
      "surface_roughness_length\n",
      "surface_upward_sensible_heat_flux\n",
      "surface_upward_latent_heat_flux\n",
      "land_binary_mask\n",
      "surface_albedo\n",
      "lagrangian_tendency_of_air_pressure\n"
     ]
    }
   ],
   "source": [
    "for var in variables:\n",
    "    print(var)"
   ]
  },
  {
   "cell_type": "markdown",
   "metadata": {},
   "source": [
    "### These are the different level types"
   ]
  },
  {
   "cell_type": "code",
   "execution_count": 6,
   "metadata": {},
   "outputs": [
    {
     "name": "stdout",
     "output_type": "stream",
     "text": [
      "meanSea\n",
      "surface\n",
      "heightAboveGround\n",
      "isobaricInhPa\n"
     ]
    }
   ],
   "source": [
    "for lev in level_type:\n",
    "    print(lev)"
   ]
  },
  {
   "cell_type": "code",
   "execution_count": 7,
   "metadata": {},
   "outputs": [
    {
     "data": {
      "text/plain": [
       "<xarray.Dataset>\n",
       "Dimensions:                                  (x: 614, y: 428)\n",
       "Coordinates:\n",
       "    month                                    int64 ...\n",
       "    lon                                      (y, x) float64 ...\n",
       "    lat                                      (y, x) float64 ...\n",
       "    height                                   float64 ...\n",
       "Dimensions without coordinates: x, y\n",
       "Data variables:\n",
       "    Pressure_reduced_to_MSL_msl              (y, x) float64 ...\n",
       "    Pressure_surface                         (y, x) float64 ...\n",
       "    Temperature_surface                      (y, x) float64 ...\n",
       "    specific_humidity                        (y, x) float64 ...\n",
       "    Relative_humidity_height_above_ground    (y, x) float64 ...\n",
       "    Temperature_height_above_ground          (y, x) float64 ...\n",
       "    v-component_of_wind_height_above_ground  (y, x) float64 ...\n",
       "    u-component_of_wind_height_above_ground  (y, x) float64 ..."
      ]
     },
     "execution_count": 7,
     "metadata": {},
     "output_type": "execute_result"
    }
   ],
   "source": [
    "import xarray as xr\n",
    "# Read in the miroc dataset\n",
    "miroc_sfc = xr.open_dataset('../preliminary_netcdf/MIROC_2d_vars.nc')\n",
    "miroc_sfc"
   ]
  },
  {
   "cell_type": "markdown",
   "metadata": {},
   "source": [
    "#### List out the different soil levels"
   ]
  },
  {
   "cell_type": "code",
   "execution_count": 8,
   "metadata": {},
   "outputs": [
    {
     "name": "stdout",
     "output_type": "stream",
     "text": [
      "0\n",
      "10\n",
      "40\n",
      "100\n"
     ]
    }
   ],
   "source": [
    "for grb in grbs.select(typeOfLevel='depthBelowLandLayer', name='Soil Temperature'):\n",
    "    print(grb.level)"
   ]
  },
  {
   "cell_type": "markdown",
   "metadata": {},
   "source": [
    "---\n",
    "### Setup variable matching to prep for value modification"
   ]
  },
  {
   "cell_type": "code",
   "execution_count": 10,
   "metadata": {},
   "outputs": [],
   "source": [
    "# Skin variables - temperature and air pressure (2-D)\n",
    "skin_vars = ['air_temperature', 'surface_air_pressure']\n",
    "miroc_skin_vars = ['Temperature_surface', 'Pressure_surface']\n",
    "near_skin_vars = dict(zip(skin_vars, miroc_skin_vars))"
   ]
  },
  {
   "cell_type": "code",
   "execution_count": 11,
   "metadata": {},
   "outputs": [],
   "source": [
    "# Variables just above Earth surface (2-D) (temperature, wind, RH)\n",
    "sfc_vars = ['2 metre temperature', 'Relative humidity', \n",
    "            '10 metre U wind component', '10 metre V wind component']\n",
    "\n",
    "miroc_vars = ['Temperature_height_above_ground', 'Relative_humidity_height_above_ground',\n",
    "              'u-component_of_wind_height_above_ground', 'v-component_of_wind_height_above_ground']\n",
    "\n",
    "miroc_dict = dict(zip(sfc_vars, miroc_vars))"
   ]
  },
  {
   "cell_type": "code",
   "execution_count": 12,
   "metadata": {},
   "outputs": [],
   "source": [
    "# Different levels to loop over\n",
    "levels = ['heightAboveGround', 'surface']"
   ]
  },
  {
   "cell_type": "markdown",
   "metadata": {},
   "source": [
    "### This loop actually does the value extraction and modification and saves a new grib file"
   ]
  },
  {
   "cell_type": "code",
   "execution_count": 13,
   "metadata": {},
   "outputs": [
    {
     "ename": "NameError",
     "evalue": "name 'near_sfc_vars' is not defined",
     "output_type": "error",
     "traceback": [
      "\u001b[0;31m-----------------------------------------------------------------------\u001b[0m",
      "\u001b[0;31mNameError\u001b[0m                             Traceback (most recent call last)",
      "\u001b[0;32m<ipython-input-13-08416fa0395a>\u001b[0m in \u001b[0;36m<module>\u001b[0;34m\u001b[0m\n\u001b[1;32m      8\u001b[0m             \u001b[0mgrbout\u001b[0m\u001b[0;34m.\u001b[0m\u001b[0mwrite\u001b[0m\u001b[0;34m(\u001b[0m\u001b[0mmsg\u001b[0m\u001b[0;34m)\u001b[0m\u001b[0;34m\u001b[0m\u001b[0;34m\u001b[0m\u001b[0m\n\u001b[1;32m      9\u001b[0m     \u001b[0;32melif\u001b[0m \u001b[0mlev\u001b[0m \u001b[0;34m==\u001b[0m \u001b[0;34m'surface'\u001b[0m\u001b[0;34m:\u001b[0m\u001b[0;34m\u001b[0m\u001b[0;34m\u001b[0m\u001b[0m\n\u001b[0;32m---> 10\u001b[0;31m         \u001b[0;32mfor\u001b[0m \u001b[0mvar\u001b[0m \u001b[0;32min\u001b[0m \u001b[0mnear_sfc_vars\u001b[0m\u001b[0;34m:\u001b[0m\u001b[0;34m\u001b[0m\u001b[0;34m\u001b[0m\u001b[0m\n\u001b[0m\u001b[1;32m     11\u001b[0m             \u001b[0mgrb\u001b[0m \u001b[0;34m=\u001b[0m \u001b[0mgrbs\u001b[0m\u001b[0;34m.\u001b[0m\u001b[0mselect\u001b[0m\u001b[0;34m(\u001b[0m\u001b[0mtypeOfLevel\u001b[0m\u001b[0;34m=\u001b[0m\u001b[0mlev\u001b[0m\u001b[0;34m,\u001b[0m \u001b[0mcfName\u001b[0m\u001b[0;34m=\u001b[0m\u001b[0mvar\u001b[0m\u001b[0;34m)\u001b[0m\u001b[0;34m[\u001b[0m\u001b[0;36m0\u001b[0m\u001b[0;34m]\u001b[0m\u001b[0;34m\u001b[0m\u001b[0;34m\u001b[0m\u001b[0m\n\u001b[1;32m     12\u001b[0m             \u001b[0mgrb\u001b[0m\u001b[0;34m[\u001b[0m\u001b[0;34m'values'\u001b[0m\u001b[0;34m]\u001b[0m \u001b[0;34m=\u001b[0m \u001b[0mgrb\u001b[0m\u001b[0;34m.\u001b[0m\u001b[0mvalues\u001b[0m \u001b[0;34m+\u001b[0m \u001b[0mmiroc_sfc\u001b[0m\u001b[0;34m[\u001b[0m\u001b[0mnear_skin_vars\u001b[0m\u001b[0;34m[\u001b[0m\u001b[0mvar\u001b[0m\u001b[0;34m]\u001b[0m\u001b[0;34m]\u001b[0m\u001b[0;34m.\u001b[0m\u001b[0mvalues\u001b[0m\u001b[0;34m\u001b[0m\u001b[0;34m\u001b[0m\u001b[0m\n",
      "\u001b[0;31mNameError\u001b[0m: name 'near_sfc_vars' is not defined"
     ]
    }
   ],
   "source": [
    "grbout = open(new_filepath+'test_surface_vars.grb','wb')\n",
    "for lev in levels:\n",
    "    if lev == 'heightAboveGround':\n",
    "        for var in sfc_vars:\n",
    "            grb = grbs.select(typeOfLevel=lev, name=var)[0]\n",
    "            grb['values'] = grb.values + miroc_sfc[miroc_dict[var]].values\n",
    "            msg = grb.tostring()\n",
    "            grbout.write(msg)\n",
    "    elif lev == 'surface':\n",
    "        for var in near_sfc_vars:\n",
    "            grb = grbs.select(typeOfLevel=lev, cfName=var)[0]\n",
    "            grb['values'] = grb.values + miroc_sfc[near_skin_vars[var]].values\n",
    "            msg = grb.tostring()\n",
    "            grbout.write(msg)\n",
    "grbout.close()"
   ]
  },
  {
   "cell_type": "markdown",
   "metadata": {},
   "source": [
    "## **Write to file** "
   ]
  },
  {
   "cell_type": "markdown",
   "metadata": {},
   "source": [
    "### Framework for writing to GRIB files"
   ]
  },
  {
   "cell_type": "code",
   "execution_count": null,
   "metadata": {},
   "outputs": [],
   "source": [
    "grbout = open(new_filepath+file,'wb')\n",
    "for grb in grbs:\n",
    "    msg = grb.tostring()\n",
    "    grbout.write(msg)\n",
    "grbout.close()"
   ]
  },
  {
   "cell_type": "code",
   "execution_count": null,
   "metadata": {},
   "outputs": [],
   "source": []
  }
 ],
 "metadata": {
  "kernelspec": {
   "display_name": "Python 3",
   "language": "python",
   "name": "python3"
  },
  "language_info": {
   "codemirror_mode": {
    "name": "ipython",
    "version": 3
   },
   "file_extension": ".py",
   "mimetype": "text/x-python",
   "name": "python",
   "nbconvert_exporter": "python",
   "pygments_lexer": "ipython3",
   "version": "3.7.3"
  }
 },
 "nbformat": 4,
 "nbformat_minor": 4
}
